{
 "cells": [
  {
   "cell_type": "code",
   "execution_count": 1,
   "metadata": {},
   "outputs": [
    {
     "name": "stderr",
     "output_type": "stream",
     "text": [
      "\u001b[32m\u001b[1m    Building\u001b[22m\u001b[39m Conda ─→ `~/.julia/scratchspaces/44cfe95a-1eb2-52ea-b672-e2afdf69b78f/51cab8e982c5b598eea9c8ceaced4b58d9dd37c9/build.log`\n"
     ]
    },
    {
     "name": "stderr",
     "output_type": "stream",
     "text": [
      "\u001b[32m\u001b[1m    Building\u001b[22m\u001b[39m PyCall → `~/.julia/scratchspaces/44cfe95a-1eb2-52ea-b672-e2afdf69b78f/9816a3826b0ebf49ab4926e2b18842ad8b5c8f04/build.log`\n"
     ]
    },
    {
     "name": "stderr",
     "output_type": "stream",
     "text": [
      "┌ Error: Unable to load the 'rospy' python package!\n",
      "│ Has an environment setup script been run?\n",
      "└ @ RobotOS /home/kh-ryu/.julia/packages/RobotOS/j0Tsl/src/RobotOS.jl:35\n"
     ]
    },
    {
     "name": "stderr",
     "output_type": "stream",
     "text": [
      "WARNING: could not import VoronoiCells.Point2D into RiskSensitiveSAC\n",
      "┌ Info: Number of Julia Thread(s): 1\n",
      "└ @ Main.RiskSensitiveSAC /home/kh-ryu/DRC_Project/DRCC-MPC/src/RiskSensitiveSAC.jl:39\n",
      "┌ Info: CUDA Device: NVIDIA GeForce RTX 3060\n",
      "└ @ Main.RiskSensitiveSAC /home/kh-ryu/DRC_Project/DRCC-MPC/src/RiskSensitiveSAC.jl:40\n",
      "┌ Info: Python executable used by PyCall: /home/kh-ryu/anaconda3/envs/trajectron++/bin/python\n",
      "└ @ Main.RiskSensitiveSAC /home/kh-ryu/DRC_Project/DRCC-MPC/src/RiskSensitiveSAC.jl:41\n"
     ]
    }
   ],
   "source": [
    "using Revise\n",
    "using Pkg\n",
    "\n",
    "ENV[\"PYTHON\"] = Sys.which(\"python\")\n",
    "ENV[\"PYCALL_JL_RUNTIME_PYTHON\"] = Sys.which(\"python\")\n",
    "Pkg.build(\"PyCall\")\n",
    "using FileIO\n",
    "using JLD2\n",
    "include(\"../src/RiskSensitiveSAC.jl\")\n",
    "using .RiskSensitiveSAC"
   ]
  },
  {
   "attachments": {},
   "cell_type": "markdown",
   "metadata": {},
   "source": [
    "# 1. Default"
   ]
  },
  {
   "cell_type": "code",
   "execution_count": 2,
   "metadata": {},
   "outputs": [],
   "source": [
    "include(\"$(@__DIR__)/../scripts/default_params/params_data_trajectron.jl\");\n",
    "\n",
    "test_data_name = \"hotel_test.pkl\";                                                  # test data set name\n",
    "test_scene_id = 0;                                                                  # test data id\n",
    "start_time_idx = 401;                                                               # start time index in test data\n",
    "ego_pos_init_vec = [-1.5, -8.5] .+ [-1.393743, 2.978962];                           # initial ego position [x, y] [m]\n",
    "ego_pos_goal_vec = [3.5, 0.0]   .+ [-1.393743, 2.978962];                           # goal ego position [x, y] [m]\n",
    "target_speed = 1.0;                                                                 # target speed [m/s]\n",
    "sim_horizon = 10.0;       \n",
    "\n",
    "include(\"$(@__DIR__)/../scripts/parameter_setup.jl\");"
   ]
  },
  {
   "cell_type": "code",
   "execution_count": 3,
   "metadata": {},
   "outputs": [
    {
     "name": "stdout",
     "output_type": "stream",
     "text": [
      "Scene Mode: data\n",
      "Prediction Mode: trajectron\n",
      "Deterministic Prediction: false\n",
      "Loaded evaluation data from /home/kh-ryu/DRC_Project/DRCC-MPC/Trajectron-plus-plus/experiments/processed/eth_test.pkl\n",
      "Looking at the eth_test.pkl sequence, data_id 0, start_idx 905\n"
     ]
    },
    {
     "name": "stdout",
     "output_type": "stream",
     "text": [
      "Loaded Trajectron model from /home/kh-ryu/DRC_Project/DRCC-MPC/Trajectron-plus-plus/experiments/pedestrians/models/eth_attention_radius_3/model_registrar-100.pt\n"
     ]
    }
   ],
   "source": [
    "scene_loader, controller, w_init, measurement_schedule, target_trajectory, target_speed =\n",
    "controller_setup(scene_param,\n",
    "                 predictor_param,\n",
    "                 prediction_device=prediction_device,\n",
    "                 cost_param=cost_param,\n",
    "                 cnt_param=cnt_param,\n",
    "                 dtc=dtc,\n",
    "                 ego_pos_init_vec=ego_pos_init_vec,\n",
    "                 ego_pos_goal_vec=ego_pos_goal_vec,\n",
    "                 target_speed=target_speed,\n",
    "                 sim_horizon=sim_horizon,\n",
    "                 verbose=true);"
   ]
  },
  {
   "cell_type": "code",
   "execution_count": 4,
   "metadata": {},
   "outputs": [
    {
     "name": "stderr",
     "output_type": "stream",
     "text": [
      "┌ Warning: It's not recommended to use allowscalar([true]) to allow scalar indexing.\n",
      "│ Instead, use `allowscalar() do end` or `@allowscalar` to denote exactly which operations can use scalar operations.\n",
      "└ @ GPUArraysCore /home/kh-ryu/.julia/packages/GPUArraysCore/GMsgk/src/GPUArraysCore.jl:188\n"
     ]
    },
    {
     "name": "stderr",
     "output_type": "stream",
     "text": [
      "┌ Warning: Time 0.00 [sec]: SAC computation took 25.285 [sec], which exceeds the maximum computation time allowed.\n",
      "└ @ Main.RiskSensitiveSAC /home/kh-ryu/DRC_Project/DRCC-MPC/src/rs_sac_controller.jl:733\n"
     ]
    },
    {
     "name": "stderr",
     "output_type": "stream",
     "text": [
      "┌ Warning: Time 0.00 [sec]: This evaluation iteration took 0.12 [sec], which exceeds dtc.\n",
      "└ @ Main.RiskSensitiveSAC /home/kh-ryu/DRC_Project/DRCC-MPC/src/evaluation.jl:291\n"
     ]
    },
    {
     "name": "stderr",
     "output_type": "stream",
     "text": [
      "┌ Warning: Time 0.10 [sec]: This evaluation iteration took 0.064 [sec], which exceeds dtc.\n",
      "└ @ Main.RiskSensitiveSAC /home/kh-ryu/DRC_Project/DRCC-MPC/src/evaluation.jl:291\n"
     ]
    },
    {
     "name": "stderr",
     "output_type": "stream",
     "text": [
      "┌ Warning: Time 0.20 [sec]: SAC computation took 0.192 [sec], which exceeds the maximum computation time allowed.\n",
      "└ @ Main.RiskSensitiveSAC /home/kh-ryu/DRC_Project/DRCC-MPC/src/rs_sac_controller.jl:733\n",
      "┌ Warning: Time 0.20 [sec]: This evaluation iteration took 0.193 [sec], which exceeds dtc.\n",
      "└ @ Main.RiskSensitiveSAC /home/kh-ryu/DRC_Project/DRCC-MPC/src/evaluation.jl:291\n"
     ]
    },
    {
     "name": "stderr",
     "output_type": "stream",
     "text": [
      "┌ Warning: Time 0.30 [sec]: This evaluation iteration took 0.028 [sec], which exceeds dtc.\n",
      "└ @ Main.RiskSensitiveSAC /home/kh-ryu/DRC_Project/DRCC-MPC/src/evaluation.jl:291\n"
     ]
    },
    {
     "name": "stderr",
     "output_type": "stream",
     "text": [
      "┌ Warning: Time 0.40 [sec]: This evaluation iteration took 0.269 [sec], which exceeds dtc.\n",
      "└ @ Main.RiskSensitiveSAC /home/kh-ryu/DRC_Project/DRCC-MPC/src/evaluation.jl:291\n"
     ]
    },
    {
     "name": "stderr",
     "output_type": "stream",
     "text": [
      "┌ Warning: Time 0.50 [sec]: This evaluation iteration took 0.025 [sec], which exceeds dtc.\n",
      "└ @ Main.RiskSensitiveSAC /home/kh-ryu/DRC_Project/DRCC-MPC/src/evaluation.jl:291\n"
     ]
    },
    {
     "name": "stderr",
     "output_type": "stream",
     "text": [
      "┌ Warning: Time 0.80 [sec]: This evaluation iteration took 0.137 [sec], which exceeds dtc.\n",
      "└ @ Main.RiskSensitiveSAC /home/kh-ryu/DRC_Project/DRCC-MPC/src/evaluation.jl:291\n"
     ]
    },
    {
     "name": "stderr",
     "output_type": "stream",
     "text": [
      "┌ Warning: Time 1.20 [sec]: This evaluation iteration took 0.073 [sec], which exceeds dtc.\n",
      "└ @ Main.RiskSensitiveSAC /home/kh-ryu/DRC_Project/DRCC-MPC/src/evaluation.jl:291\n"
     ]
    },
    {
     "name": "stderr",
     "output_type": "stream",
     "text": [
      "┌ Warning: Time 1.60 [sec]: This evaluation iteration took 0.097 [sec], which exceeds dtc.\n",
      "└ @ Main.RiskSensitiveSAC /home/kh-ryu/DRC_Project/DRCC-MPC/src/evaluation.jl:291\n"
     ]
    },
    {
     "name": "stderr",
     "output_type": "stream",
     "text": [
      "┌ Warning: Time 2.00 [sec]: This evaluation iteration took 0.082 [sec], which exceeds dtc.\n",
      "└ @ Main.RiskSensitiveSAC /home/kh-ryu/DRC_Project/DRCC-MPC/src/evaluation.jl:291\n"
     ]
    },
    {
     "name": "stderr",
     "output_type": "stream",
     "text": [
      "┌ Warning: Time 2.40 [sec]: This evaluation iteration took 0.082 [sec], which exceeds dtc.\n",
      "└ @ Main.RiskSensitiveSAC /home/kh-ryu/DRC_Project/DRCC-MPC/src/evaluation.jl:291\n"
     ]
    },
    {
     "name": "stderr",
     "output_type": "stream",
     "text": [
      "┌ Warning: Time 2.80 [sec]: This evaluation iteration took 0.075 [sec], which exceeds dtc.\n",
      "└ @ Main.RiskSensitiveSAC /home/kh-ryu/DRC_Project/DRCC-MPC/src/evaluation.jl:291\n"
     ]
    },
    {
     "name": "stderr",
     "output_type": "stream",
     "text": [
      "┌ Warning: Time 3.20 [sec]: This evaluation iteration took 0.05 [sec], which exceeds dtc.\n",
      "└ @ Main.RiskSensitiveSAC /home/kh-ryu/DRC_Project/DRCC-MPC/src/evaluation.jl:291\n"
     ]
    },
    {
     "name": "stderr",
     "output_type": "stream",
     "text": [
      "┌ Warning: Time 3.60 [sec]: This evaluation iteration took 0.112 [sec], which exceeds dtc.\n",
      "└ @ Main.RiskSensitiveSAC /home/kh-ryu/DRC_Project/DRCC-MPC/src/evaluation.jl:291\n"
     ]
    },
    {
     "name": "stderr",
     "output_type": "stream",
     "text": [
      "┌ Warning: Time 4.00 [sec]: This evaluation iteration took 0.113 [sec], which exceeds dtc.\n",
      "└ @ Main.RiskSensitiveSAC /home/kh-ryu/DRC_Project/DRCC-MPC/src/evaluation.jl:291\n"
     ]
    },
    {
     "name": "stderr",
     "output_type": "stream",
     "text": [
      "┌ Warning: Time 4.10 [sec]: This evaluation iteration took 0.02 [sec], which exceeds dtc.\n",
      "└ @ Main.RiskSensitiveSAC /home/kh-ryu/DRC_Project/DRCC-MPC/src/evaluation.jl:291\n"
     ]
    },
    {
     "name": "stderr",
     "output_type": "stream",
     "text": [
      "┌ Warning: Time 4.20 [sec]: This evaluation iteration took 0.021 [sec], which exceeds dtc.\n",
      "└ @ Main.RiskSensitiveSAC /home/kh-ryu/DRC_Project/DRCC-MPC/src/evaluation.jl:291\n"
     ]
    },
    {
     "name": "stderr",
     "output_type": "stream",
     "text": [
      "┌ Warning: Time 4.40 [sec]: This evaluation iteration took 0.108 [sec], which exceeds dtc.\n",
      "└ @ Main.RiskSensitiveSAC /home/kh-ryu/DRC_Project/DRCC-MPC/src/evaluation.jl:291\n"
     ]
    },
    {
     "name": "stderr",
     "output_type": "stream",
     "text": [
      "┌ Warning: Time 4.80 [sec]: This evaluation iteration took 0.105 [sec], which exceeds dtc.\n",
      "└ @ Main.RiskSensitiveSAC /home/kh-ryu/DRC_Project/DRCC-MPC/src/evaluation.jl:291\n"
     ]
    },
    {
     "name": "stderr",
     "output_type": "stream",
     "text": [
      "┌ Warning: Time 5.20 [sec]: This evaluation iteration took 0.102 [sec], which exceeds dtc.\n",
      "└ @ Main.RiskSensitiveSAC /home/kh-ryu/DRC_Project/DRCC-MPC/src/evaluation.jl:291\n"
     ]
    },
    {
     "name": "stderr",
     "output_type": "stream",
     "text": [
      "┌ Warning: Time 5.60 [sec]: This evaluation iteration took 0.113 [sec], which exceeds dtc.\n",
      "└ @ Main.RiskSensitiveSAC /home/kh-ryu/DRC_Project/DRCC-MPC/src/evaluation.jl:291\n"
     ]
    },
    {
     "name": "stderr",
     "output_type": "stream",
     "text": [
      "┌ Warning: Time 6.00 [sec]: This evaluation iteration took 0.109 [sec], which exceeds dtc.\n",
      "└ @ Main.RiskSensitiveSAC /home/kh-ryu/DRC_Project/DRCC-MPC/src/evaluation.jl:291\n"
     ]
    },
    {
     "name": "stderr",
     "output_type": "stream",
     "text": [
      "/home/kh-ryu/anaconda3/envs/trajectron++/lib/python3.7/site-packages/torch/serialization.py:868: SourceChangeWarning: source code of class 'torch.nn.modules.container.ModuleDict' has changed. you can retrieve the original source code by accessing the object's source attribute or set `torch.nn.Module.dump_patches = True` and use the patch tool to revert the changes.\n",
      "  warnings.warn(msg, SourceChangeWarning)\n",
      "/home/kh-ryu/anaconda3/envs/trajectron++/lib/python3.7/site-packages/torch/serialization.py:868: SourceChangeWarning: source code of class 'torch.nn.modules.rnn.LSTM' has changed. you can retrieve the original source code by accessing the object's source attribute or set `torch.nn.Module.dump_patches = True` and use the patch tool to revert the changes.\n",
      "  warnings.warn(msg, SourceChangeWarning)\n",
      "/home/kh-ryu/anaconda3/envs/trajectron++/lib/python3.7/site-packages/torch/serialization.py:868: SourceChangeWarning: source code of class 'torch.nn.modules.linear.Linear' has changed. you can retrieve the original source code by accessing the object's source attribute or set `torch.nn.Module.dump_patches = True` and use the patch tool to revert the changes.\n",
      "  warnings.warn(msg, SourceChangeWarning)\n",
      "/home/kh-ryu/anaconda3/envs/trajectron++/lib/python3.7/site-packages/torch/serialization.py:868: SourceChangeWarning: source code of class 'torch.nn.modules.container.Sequential' has changed. you can retrieve the original source code by accessing the object's source attribute or set `torch.nn.Module.dump_patches = True` and use the patch tool to revert the changes.\n",
      "  warnings.warn(msg, SourceChangeWarning)\n",
      "/home/kh-ryu/anaconda3/envs/trajectron++/lib/python3.7/site-packages/torch/serialization.py:868: SourceChangeWarning: source code of class 'torch.nn.modules.rnn.GRUCell' has changed. you can retrieve the original source code by accessing the object's source attribute or set `torch.nn.Module.dump_patches = True` and use the patch tool to revert the changes.\n",
      "  warnings.warn(msg, SourceChangeWarning)\n",
      "/home/kh-ryu/anaconda3/envs/trajectron++/lib/python3.7/site-packages/torch/distributions/distribution.py:47: UserWarning: <class 'model.components.gmm2d.GMM2D'> does not define `arg_constraints`. Please set `arg_constraints = {}` or initialize the distribution with `validate_args=False` to turn off validation.\n",
      "  'with `validate_args=False` to turn off validation.')\n",
      "/home/kh-ryu/anaconda3/envs/trajectron++/lib/python3.7/site-packages/torch/distributions/distribution.py:47: UserWarning: <class 'model.components.gmm2d.GMM2D'> does not define `arg_constraints`. Please set `arg_constraints = {}` or initialize the distribution with `validate_args=False` to turn off validation.\n",
      "  'with `validate_args=False` to turn off validation.')\n",
      "/home/kh-ryu/anaconda3/envs/trajectron++/lib/python3.7/site-packages/torch/distributions/distribution.py:47: UserWarning: <class 'model.components.gmm2d.GMM2D'> does not define `arg_constraints`. Please set `arg_constraints = {}` or initialize the distribution with `validate_args=False` to turn off validation.\n",
      "  'with `validate_args=False` to turn off validation.')\n",
      "/home/kh-ryu/anaconda3/envs/trajectron++/lib/python3.7/site-packages/torch/distributions/distribution.py:47: UserWarning: <class 'model.components.gmm2d.GMM2D'> does not define `arg_constraints`. Please set `arg_constraints = {}` or initialize the distribution with `validate_args=False` to turn off validation.\n",
      "  'with `validate_args=False` to turn off validation.')\n",
      "/home/kh-ryu/anaconda3/envs/trajectron++/lib/python3.7/site-packages/torch/distributions/distribution.py:47: UserWarning: <class 'model.components.gmm2d.GMM2D'> does not define `arg_constraints`. Please set `arg_constraints = {}` or initialize the distribution with `validate_args=False` to turn off validation.\n",
      "  'with `validate_args=False` to turn off validation.')\n",
      "/home/kh-ryu/anaconda3/envs/trajectron++/lib/python3.7/site-packages/torch/distributions/distribution.py:47: UserWarning: <class 'model.components.gmm2d.GMM2D'> does not define `arg_constraints`. Please set `arg_constraints = {}` or initialize the distribution with `validate_args=False` to turn off validation.\n",
      "  'with `validate_args=False` to turn off validation.')\n",
      "/home/kh-ryu/anaconda3/envs/trajectron++/lib/python3.7/site-packages/torch/distributions/distribution.py:47: UserWarning: <class 'model.components.gmm2d.GMM2D'> does not define `arg_constraints`. Please set `arg_constraints = {}` or initialize the distribution with `validate_args=False` to turn off validation.\n",
      "  'with `validate_args=False` to turn off validation.')\n",
      "/home/kh-ryu/anaconda3/envs/trajectron++/lib/python3.7/site-packages/torch/distributions/distribution.py:47: UserWarning: <class 'model.components.gmm2d.GMM2D'> does not define `arg_constraints`. Please set `arg_constraints = {}` or initialize the distribution with `validate_args=False` to turn off validation.\n",
      "  'with `validate_args=False` to turn off validation.')\n",
      "/home/kh-ryu/anaconda3/envs/trajectron++/lib/python3.7/site-packages/torch/distributions/distribution.py:47: UserWarning: <class 'model.components.gmm2d.GMM2D'> does not define `arg_constraints`. Please set `arg_constraints = {}` or initialize the distribution with `validate_args=False` to turn off validation.\n",
      "  'with `validate_args=False` to turn off validation.')\n",
      "/home/kh-ryu/anaconda3/envs/trajectron++/lib/python3.7/site-packages/torch/distributions/distribution.py:47: UserWarning: <class 'model.components.gmm2d.GMM2D'> does not define `arg_constraints`. Please set `arg_constraints = {}` or initialize the distribution with `validate_args=False` to turn off validation.\n",
      "  'with `validate_args=False` to turn off validation.')\n",
      "/home/kh-ryu/anaconda3/envs/trajectron++/lib/python3.7/site-packages/torch/distributions/distribution.py:47: UserWarning: <class 'model.components.gmm2d.GMM2D'> does not define `arg_constraints`. Please set `arg_constraints = {}` or initialize the distribution with `validate_args=False` to turn off validation.\n",
      "  'with `validate_args=False` to turn off validation.')\n",
      "/home/kh-ryu/anaconda3/envs/trajectron++/lib/python3.7/site-packages/torch/distributions/distribution.py:47: UserWarning: <class 'model.components.gmm2d.GMM2D'> does not define `arg_constraints`. Please set `arg_constraints = {}` or initialize the distribution with `validate_args=False` to turn off validation.\n",
      "  'with `validate_args=False` to turn off validation.')\n",
      "/home/kh-ryu/anaconda3/envs/trajectron++/lib/python3.7/site-packages/torch/distributions/distribution.py:47: UserWarning: <class 'model.components.gmm2d.GMM2D'> does not define `arg_constraints`. Please set `arg_constraints = {}` or initialize the distribution with `validate_args=False` to turn off validation.\n",
      "  'with `validate_args=False` to turn off validation.')\n",
      "/home/kh-ryu/anaconda3/envs/trajectron++/lib/python3.7/site-packages/torch/distributions/distribution.py:47: UserWarning: <class 'model.components.gmm2d.GMM2D'> does not define `arg_constraints`. Please set `arg_constraints = {}` or initialize the distribution with `validate_args=False` to turn off validation.\n",
      "  'with `validate_args=False` to turn off validation.')\n",
      "/home/kh-ryu/anaconda3/envs/trajectron++/lib/python3.7/site-packages/torch/distributions/distribution.py:47: UserWarning: <class 'model.components.gmm2d.GMM2D'> does not define `arg_constraints`. Please set `arg_constraints = {}` or initialize the distribution with `validate_args=False` to turn off validation.\n",
      "  'with `validate_args=False` to turn off validation.')\n",
      "/home/kh-ryu/anaconda3/envs/trajectron++/lib/python3.7/site-packages/torch/distributions/distribution.py:47: UserWarning: <class 'model.components.gmm2d.GMM2D'> does not define `arg_constraints`. Please set `arg_constraints = {}` or initialize the distribution with `validate_args=False` to turn off validation.\n",
      "  'with `validate_args=False` to turn off validation.')\n",
      "/home/kh-ryu/anaconda3/envs/trajectron++/lib/python3.7/site-packages/torch/distributions/distribution.py:47: UserWarning: <class 'model.components.gmm2d.GMM2D'> does not define `arg_constraints`. Please set `arg_constraints = {}` or initialize the distribution with `validate_args=False` to turn off validation.\n",
      "  'with `validate_args=False` to turn off validation.')\n",
      "┌ Warning: Time 6.40 [sec]: This evaluation iteration took 0.096 [sec], which exceeds dtc.\n",
      "└ @ Main.RiskSensitiveSAC /home/kh-ryu/DRC_Project/DRCC-MPC/src/evaluation.jl:291\n"
     ]
    },
    {
     "name": "stderr",
     "output_type": "stream",
     "text": [
      "┌ Warning: Time 6.80 [sec]: This evaluation iteration took 0.092 [sec], which exceeds dtc.\n",
      "└ @ Main.RiskSensitiveSAC /home/kh-ryu/DRC_Project/DRCC-MPC/src/evaluation.jl:291\n"
     ]
    },
    {
     "name": "stderr",
     "output_type": "stream",
     "text": [
      "┌ Warning: Time 7.20 [sec]: This evaluation iteration took 0.091 [sec], which exceeds dtc.\n",
      "└ @ Main.RiskSensitiveSAC /home/kh-ryu/DRC_Project/DRCC-MPC/src/evaluation.jl:291\n"
     ]
    },
    {
     "name": "stderr",
     "output_type": "stream",
     "text": [
      "┌ Warning: Time 7.60 [sec]: This evaluation iteration took 0.093 [sec], which exceeds dtc.\n",
      "└ @ Main.RiskSensitiveSAC /home/kh-ryu/DRC_Project/DRCC-MPC/src/evaluation.jl:291\n"
     ]
    },
    {
     "name": "stderr",
     "output_type": "stream",
     "text": [
      "┌ Warning: Time 8.00 [sec]: This evaluation iteration took 0.092 [sec], which exceeds dtc.\n",
      "└ @ Main.RiskSensitiveSAC /home/kh-ryu/DRC_Project/DRCC-MPC/src/evaluation.jl:291\n"
     ]
    },
    {
     "name": "stderr",
     "output_type": "stream",
     "text": [
      "┌ Warning: Time 8.40 [sec]: This evaluation iteration took 0.083 [sec], which exceeds dtc.\n",
      "└ @ Main.RiskSensitiveSAC /home/kh-ryu/DRC_Project/DRCC-MPC/src/evaluation.jl:291\n"
     ]
    },
    {
     "name": "stderr",
     "output_type": "stream",
     "text": [
      "┌ Warning: Time 8.80 [sec]: This evaluation iteration took 0.073 [sec], which exceeds dtc.\n",
      "└ @ Main.RiskSensitiveSAC /home/kh-ryu/DRC_Project/DRCC-MPC/src/evaluation.jl:291\n"
     ]
    },
    {
     "name": "stderr",
     "output_type": "stream",
     "text": [
      "┌ Warning: Time 9.20 [sec]: This evaluation iteration took 0.067 [sec], which exceeds dtc.\n",
      "└ @ Main.RiskSensitiveSAC /home/kh-ryu/DRC_Project/DRCC-MPC/src/evaluation.jl:291\n"
     ]
    },
    {
     "name": "stderr",
     "output_type": "stream",
     "text": [
      "┌ Warning: Time 9.60 [sec]: This evaluation iteration took 0.069 [sec], which exceeds dtc.\n",
      "└ @ Main.RiskSensitiveSAC /home/kh-ryu/DRC_Project/DRCC-MPC/src/evaluation.jl:291\n"
     ]
    },
    {
     "name": "stdout",
     "output_type": "stream",
     "text": [
      "Average computation time: 0.03699679085702607\n",
      "std of computation time: 0.044480262945688465\n"
     ]
    }
   ],
   "source": [
    "result, ~, ~ = evaluate(scene_loader, controller, w_init, ego_pos_goal_vec,\n",
    "                  target_speed, measurement_schedule, target_trajectory,\n",
    "                  pos_error_replan, nominal_control=false);"
   ]
  },
  {
   "cell_type": "code",
   "execution_count": null,
   "metadata": {},
   "outputs": [],
   "source": [
    "display_log(result.log)"
   ]
  },
  {
   "cell_type": "code",
   "execution_count": null,
   "metadata": {},
   "outputs": [],
   "source": [
    "result.total_cnt_cost"
   ]
  },
  {
   "cell_type": "code",
   "execution_count": null,
   "metadata": {},
   "outputs": [],
   "source": [
    "result.total_pos_cost"
   ]
  },
  {
   "cell_type": "code",
   "execution_count": null,
   "metadata": {},
   "outputs": [],
   "source": [
    "result.total_col_cost"
   ]
  },
  {
   "cell_type": "code",
   "execution_count": null,
   "metadata": {},
   "outputs": [],
   "source": [
    "result.total_cnt_cost + result.total_pos_cost + result.total_col_cost"
   ]
  },
  {
   "cell_type": "code",
   "execution_count": null,
   "metadata": {},
   "outputs": [],
   "source": [
    "minimum([minimum(vcat([norm(get_position(w.e_state) - ap) for ap in values(w.ap_dict)], Inf))\n",
    "                          for w in result.w_history])"
   ]
  },
  {
   "cell_type": "code",
   "execution_count": null,
   "metadata": {},
   "outputs": [],
   "source": [
    "make_gif(result, dtplot=0.02, fps=50, xlim=(-3. + -5.263534, 13. + -5.314636), \n",
    "         ylim=(0. + -5.263534, 10. + -5.314636), figsize=(600, 400), \n",
    "         legendfontsize=7, legend=:bottomright, markersize=5., filename=\"2_1_data_trajectron.gif\")"
   ]
  },
  {
   "cell_type": "code",
   "execution_count": null,
   "metadata": {},
   "outputs": [],
   "source": [
    "save(\"2_1_data_trajectron.jld2\", \"result\", result)"
   ]
  },
  {
   "attachments": {},
   "cell_type": "markdown",
   "metadata": {},
   "source": [
    "# 2. Risk Sensitive"
   ]
  },
  {
   "cell_type": "code",
   "execution_count": 5,
   "metadata": {},
   "outputs": [],
   "source": [
    "include(\"$(@__DIR__)/../scripts/default_params/params_data_trajectron.jl\");\n",
    "\n",
    "σ_risk = 1.0;\n",
    "prediction_rng_seed = 1;\n",
    "\n",
    "include(\"$(@__DIR__)/../scripts/parameter_setup.jl\");"
   ]
  },
  {
   "cell_type": "code",
   "execution_count": 6,
   "metadata": {},
   "outputs": [
    {
     "name": "stdout",
     "output_type": "stream",
     "text": [
      "Scene Mode: data\n",
      "Prediction Mode: trajectron\n",
      "Deterministic Prediction: false\n",
      "Loaded evaluation data from /home/kh-ryu/DRC_Project/DRCC-MPC/Trajectron-plus-plus/experiments/processed/eth_test.pkl\n",
      "Looking at the eth_test.pkl sequence, data_id 0, start_idx 905\n",
      "Loaded Trajectron model from /home/kh-ryu/DRC_Project/DRCC-MPC/Trajectron-plus-plus/experiments/pedestrians/models/eth_attention_radius_3/model_registrar-100.pt\n"
     ]
    }
   ],
   "source": [
    "scene_loader, controller, w_init, measurement_schedule, target_trajectory, target_speed =\n",
    "controller_setup(scene_param,\n",
    "                 predictor_param,\n",
    "                 prediction_device=prediction_device,\n",
    "                 cost_param=cost_param,\n",
    "                 cnt_param=cnt_param,\n",
    "                 dtc=dtc,\n",
    "                 ego_pos_init_vec=ego_pos_init_vec,\n",
    "                 ego_pos_goal_vec=ego_pos_goal_vec,\n",
    "                 target_speed=target_speed,\n",
    "                 sim_horizon=sim_horizon,\n",
    "                 verbose=true);"
   ]
  },
  {
   "cell_type": "code",
   "execution_count": 7,
   "metadata": {},
   "outputs": [
    {
     "name": "stderr",
     "output_type": "stream",
     "text": [
      "┌ Warning: Time 0.00 [sec]: SAC computation took 0.166 [sec], which exceeds the maximum computation time allowed.\n",
      "└ @ Main.RiskSensitiveSAC /home/kh-ryu/DRC_Project/DRCC-MPC/src/rs_sac_controller.jl:733\n"
     ]
    },
    {
     "name": "stderr",
     "output_type": "stream",
     "text": [
      "┌ Warning: Time 0.10 [sec]: This evaluation iteration took 0.029 [sec], which exceeds dtc.\n",
      "└ @ Main.RiskSensitiveSAC /home/kh-ryu/DRC_Project/DRCC-MPC/src/evaluation.jl:291\n"
     ]
    },
    {
     "name": "stderr",
     "output_type": "stream",
     "text": [
      "┌ Warning: Time 0.20 [sec]: This evaluation iteration took 0.025 [sec], which exceeds dtc.\n",
      "└ @ Main.RiskSensitiveSAC /home/kh-ryu/DRC_Project/DRCC-MPC/src/evaluation.jl:291\n"
     ]
    },
    {
     "name": "stderr",
     "output_type": "stream",
     "text": [
      "┌ Warning: Time 0.30 [sec]: This evaluation iteration took 0.024 [sec], which exceeds dtc.\n",
      "└ @ Main.RiskSensitiveSAC /home/kh-ryu/DRC_Project/DRCC-MPC/src/evaluation.jl:291\n"
     ]
    },
    {
     "name": "stderr",
     "output_type": "stream",
     "text": [
      "┌ Warning: Time 0.40 [sec]: This evaluation iteration took 0.08 [sec], which exceeds dtc.\n",
      "└ @ Main.RiskSensitiveSAC /home/kh-ryu/DRC_Project/DRCC-MPC/src/evaluation.jl:291\n"
     ]
    },
    {
     "name": "stderr",
     "output_type": "stream",
     "text": [
      "┌ Warning: Time 0.80 [sec]: This evaluation iteration took 0.078 [sec], which exceeds dtc.\n",
      "└ @ Main.RiskSensitiveSAC /home/kh-ryu/DRC_Project/DRCC-MPC/src/evaluation.jl:291\n"
     ]
    },
    {
     "name": "stderr",
     "output_type": "stream",
     "text": [
      "┌ Warning: Time 1.20 [sec]: This evaluation iteration took 0.076 [sec], which exceeds dtc.\n",
      "└ @ Main.RiskSensitiveSAC /home/kh-ryu/DRC_Project/DRCC-MPC/src/evaluation.jl:291\n"
     ]
    },
    {
     "name": "stderr",
     "output_type": "stream",
     "text": [
      "┌ Warning: Time 1.60 [sec]: This evaluation iteration took 0.086 [sec], which exceeds dtc.\n",
      "└ @ Main.RiskSensitiveSAC /home/kh-ryu/DRC_Project/DRCC-MPC/src/evaluation.jl:291\n"
     ]
    },
    {
     "name": "stderr",
     "output_type": "stream",
     "text": [
      "┌ Warning: Time 2.00 [sec]: This evaluation iteration took 0.086 [sec], which exceeds dtc.\n",
      "└ @ Main.RiskSensitiveSAC /home/kh-ryu/DRC_Project/DRCC-MPC/src/evaluation.jl:291\n"
     ]
    },
    {
     "name": "stderr",
     "output_type": "stream",
     "text": [
      "┌ Warning: Time 2.40 [sec]: This evaluation iteration took 0.085 [sec], which exceeds dtc.\n",
      "└ @ Main.RiskSensitiveSAC /home/kh-ryu/DRC_Project/DRCC-MPC/src/evaluation.jl:291\n"
     ]
    },
    {
     "name": "stderr",
     "output_type": "stream",
     "text": [
      "┌ Warning: Time 2.80 [sec]: This evaluation iteration took 0.074 [sec], which exceeds dtc.\n",
      "└ @ Main.RiskSensitiveSAC /home/kh-ryu/DRC_Project/DRCC-MPC/src/evaluation.jl:291\n"
     ]
    },
    {
     "name": "stderr",
     "output_type": "stream",
     "text": [
      "/home/kh-ryu/anaconda3/envs/trajectron++/lib/python3.7/site-packages/torch/distributions/distribution.py:47: UserWarning: <class 'model.components.gmm2d.GMM2D'> does not define `arg_constraints`. Please set `arg_constraints = {}` or initialize the distribution with `validate_args=False` to turn off validation.\n",
      "  'with `validate_args=False` to turn off validation.')\n",
      "/home/kh-ryu/anaconda3/envs/trajectron++/lib/python3.7/site-packages/torch/distributions/distribution.py:47: UserWarning: <class 'model.components.gmm2d.GMM2D'> does not define `arg_constraints`. Please set `arg_constraints = {}` or initialize the distribution with `validate_args=False` to turn off validation.\n",
      "  'with `validate_args=False` to turn off validation.')\n",
      "/home/kh-ryu/anaconda3/envs/trajectron++/lib/python3.7/site-packages/torch/distributions/distribution.py:47: UserWarning: <class 'model.components.gmm2d.GMM2D'> does not define `arg_constraints`. Please set `arg_constraints = {}` or initialize the distribution with `validate_args=False` to turn off validation.\n",
      "  'with `validate_args=False` to turn off validation.')\n",
      "/home/kh-ryu/anaconda3/envs/trajectron++/lib/python3.7/site-packages/torch/distributions/distribution.py:47: UserWarning: <class 'model.components.gmm2d.GMM2D'> does not define `arg_constraints`. Please set `arg_constraints = {}` or initialize the distribution with `validate_args=False` to turn off validation.\n",
      "  'with `validate_args=False` to turn off validation.')\n",
      "/home/kh-ryu/anaconda3/envs/trajectron++/lib/python3.7/site-packages/torch/distributions/distribution.py:47: UserWarning: <class 'model.components.gmm2d.GMM2D'> does not define `arg_constraints`. Please set `arg_constraints = {}` or initialize the distribution with `validate_args=False` to turn off validation.\n",
      "  'with `validate_args=False` to turn off validation.')\n",
      "/home/kh-ryu/anaconda3/envs/trajectron++/lib/python3.7/site-packages/torch/distributions/distribution.py:47: UserWarning: <class 'model.components.gmm2d.GMM2D'> does not define `arg_constraints`. Please set `arg_constraints = {}` or initialize the distribution with `validate_args=False` to turn off validation.\n",
      "  'with `validate_args=False` to turn off validation.')\n",
      "/home/kh-ryu/anaconda3/envs/trajectron++/lib/python3.7/site-packages/torch/distributions/distribution.py:47: UserWarning: <class 'model.components.gmm2d.GMM2D'> does not define `arg_constraints`. Please set `arg_constraints = {}` or initialize the distribution with `validate_args=False` to turn off validation.\n",
      "  'with `validate_args=False` to turn off validation.')\n",
      "/home/kh-ryu/anaconda3/envs/trajectron++/lib/python3.7/site-packages/torch/distributions/distribution.py:47: UserWarning: <class 'model.components.gmm2d.GMM2D'> does not define `arg_constraints`. Please set `arg_constraints = {}` or initialize the distribution with `validate_args=False` to turn off validation.\n",
      "  'with `validate_args=False` to turn off validation.')\n",
      "/home/kh-ryu/anaconda3/envs/trajectron++/lib/python3.7/site-packages/torch/serialization.py:868: SourceChangeWarning: source code of class 'torch.nn.modules.container.ModuleDict' has changed. you can retrieve the original source code by accessing the object's source attribute or set `torch.nn.Module.dump_patches = True` and use the patch tool to revert the changes.\n",
      "  warnings.warn(msg, SourceChangeWarning)\n",
      "/home/kh-ryu/anaconda3/envs/trajectron++/lib/python3.7/site-packages/torch/serialization.py:868: SourceChangeWarning: source code of class 'torch.nn.modules.rnn.LSTM' has changed. you can retrieve the original source code by accessing the object's source attribute or set `torch.nn.Module.dump_patches = True` and use the patch tool to revert the changes.\n",
      "  warnings.warn(msg, SourceChangeWarning)\n",
      "/home/kh-ryu/anaconda3/envs/trajectron++/lib/python3.7/site-packages/torch/serialization.py:868: SourceChangeWarning: source code of class 'torch.nn.modules.linear.Linear' has changed. you can retrieve the original source code by accessing the object's source attribute or set `torch.nn.Module.dump_patches = True` and use the patch tool to revert the changes.\n",
      "  warnings.warn(msg, SourceChangeWarning)\n",
      "/home/kh-ryu/anaconda3/envs/trajectron++/lib/python3.7/site-packages/torch/serialization.py:868: SourceChangeWarning: source code of class 'torch.nn.modules.container.Sequential' has changed. you can retrieve the original source code by accessing the object's source attribute or set `torch.nn.Module.dump_patches = True` and use the patch tool to revert the changes.\n",
      "  warnings.warn(msg, SourceChangeWarning)\n",
      "/home/kh-ryu/anaconda3/envs/trajectron++/lib/python3.7/site-packages/torch/serialization.py:868: SourceChangeWarning: source code of class 'torch.nn.modules.rnn.GRUCell' has changed. you can retrieve the original source code by accessing the object's source attribute or set `torch.nn.Module.dump_patches = True` and use the patch tool to revert the changes.\n",
      "  warnings.warn(msg, SourceChangeWarning)\n",
      "/home/kh-ryu/anaconda3/envs/trajectron++/lib/python3.7/site-packages/torch/distributions/distribution.py:47: UserWarning: <class 'model.components.gmm2d.GMM2D'> does not define `arg_constraints`. Please set `arg_constraints = {}` or initialize the distribution with `validate_args=False` to turn off validation.\n",
      "  'with `validate_args=False` to turn off validation.')\n",
      "/home/kh-ryu/anaconda3/envs/trajectron++/lib/python3.7/site-packages/torch/distributions/distribution.py:47: UserWarning: <class 'model.components.gmm2d.GMM2D'> does not define `arg_constraints`. Please set `arg_constraints = {}` or initialize the distribution with `validate_args=False` to turn off validation.\n",
      "  'with `validate_args=False` to turn off validation.')\n",
      "/home/kh-ryu/anaconda3/envs/trajectron++/lib/python3.7/site-packages/torch/distributions/distribution.py:47: UserWarning: <class 'model.components.gmm2d.GMM2D'> does not define `arg_constraints`. Please set `arg_constraints = {}` or initialize the distribution with `validate_args=False` to turn off validation.\n",
      "  'with `validate_args=False` to turn off validation.')\n",
      "/home/kh-ryu/anaconda3/envs/trajectron++/lib/python3.7/site-packages/torch/distributions/distribution.py:47: UserWarning: <class 'model.components.gmm2d.GMM2D'> does not define `arg_constraints`. Please set `arg_constraints = {}` or initialize the distribution with `validate_args=False` to turn off validation.\n",
      "  'with `validate_args=False` to turn off validation.')\n",
      "/home/kh-ryu/anaconda3/envs/trajectron++/lib/python3.7/site-packages/torch/distributions/distribution.py:47: UserWarning: <class 'model.components.gmm2d.GMM2D'> does not define `arg_constraints`. Please set `arg_constraints = {}` or initialize the distribution with `validate_args=False` to turn off validation.\n",
      "  'with `validate_args=False` to turn off validation.')\n",
      "/home/kh-ryu/anaconda3/envs/trajectron++/lib/python3.7/site-packages/torch/distributions/distribution.py:47: UserWarning: <class 'model.components.gmm2d.GMM2D'> does not define `arg_constraints`. Please set `arg_constraints = {}` or initialize the distribution with `validate_args=False` to turn off validation.\n",
      "  'with `validate_args=False` to turn off validation.')\n",
      "/home/kh-ryu/anaconda3/envs/trajectron++/lib/python3.7/site-packages/torch/distributions/distribution.py:47: UserWarning: <class 'model.components.gmm2d.GMM2D'> does not define `arg_constraints`. Please set `arg_constraints = {}` or initialize the distribution with `validate_args=False` to turn off validation.\n",
      "  'with `validate_args=False` to turn off validation.')\n",
      "/home/kh-ryu/anaconda3/envs/trajectron++/lib/python3.7/site-packages/torch/distributions/distribution.py:47: UserWarning: <class 'model.components.gmm2d.GMM2D'> does not define `arg_constraints`. Please set `arg_constraints = {}` or initialize the distribution with `validate_args=False` to turn off validation.\n",
      "  'with `validate_args=False` to turn off validation.')\n",
      "/home/kh-ryu/anaconda3/envs/trajectron++/lib/python3.7/site-packages/torch/distributions/distribution.py:47: UserWarning: <class 'model.components.gmm2d.GMM2D'> does not define `arg_constraints`. Please set `arg_constraints = {}` or initialize the distribution with `validate_args=False` to turn off validation.\n",
      "  'with `validate_args=False` to turn off validation.')\n",
      "┌ Warning: Time 3.20 [sec]: This evaluation iteration took 0.056 [sec], which exceeds dtc.\n",
      "└ @ Main.RiskSensitiveSAC /home/kh-ryu/DRC_Project/DRCC-MPC/src/evaluation.jl:291\n"
     ]
    },
    {
     "name": "stderr",
     "output_type": "stream",
     "text": [
      "┌ Warning: Time 3.60 [sec]: This evaluation iteration took 0.1 [sec], which exceeds dtc.\n",
      "└ @ Main.RiskSensitiveSAC /home/kh-ryu/DRC_Project/DRCC-MPC/src/evaluation.jl:291\n"
     ]
    },
    {
     "name": "stderr",
     "output_type": "stream",
     "text": [
      "┌ Warning: Time 4.00 [sec]: This evaluation iteration took 0.102 [sec], which exceeds dtc.\n",
      "└ @ Main.RiskSensitiveSAC /home/kh-ryu/DRC_Project/DRCC-MPC/src/evaluation.jl:291\n"
     ]
    },
    {
     "name": "stderr",
     "output_type": "stream",
     "text": [
      "┌ Warning: Time 4.40 [sec]: This evaluation iteration took 0.111 [sec], which exceeds dtc.\n",
      "└ @ Main.RiskSensitiveSAC /home/kh-ryu/DRC_Project/DRCC-MPC/src/evaluation.jl:291\n"
     ]
    },
    {
     "name": "stderr",
     "output_type": "stream",
     "text": [
      "┌ Warning: Time 4.80 [sec]: This evaluation iteration took 0.102 [sec], which exceeds dtc.\n",
      "└ @ Main.RiskSensitiveSAC /home/kh-ryu/DRC_Project/DRCC-MPC/src/evaluation.jl:291\n"
     ]
    },
    {
     "name": "stderr",
     "output_type": "stream",
     "text": [
      "┌ Warning: Time 5.20 [sec]: This evaluation iteration took 0.111 [sec], which exceeds dtc.\n",
      "└ @ Main.RiskSensitiveSAC /home/kh-ryu/DRC_Project/DRCC-MPC/src/evaluation.jl:291\n"
     ]
    },
    {
     "name": "stderr",
     "output_type": "stream",
     "text": [
      "┌ Warning: Time 5.60 [sec]: This evaluation iteration took 0.115 [sec], which exceeds dtc.\n",
      "└ @ Main.RiskSensitiveSAC /home/kh-ryu/DRC_Project/DRCC-MPC/src/evaluation.jl:291\n"
     ]
    },
    {
     "name": "stderr",
     "output_type": "stream",
     "text": [
      "┌ Warning: Time 6.00 [sec]: This evaluation iteration took 0.114 [sec], which exceeds dtc.\n",
      "└ @ Main.RiskSensitiveSAC /home/kh-ryu/DRC_Project/DRCC-MPC/src/evaluation.jl:291\n"
     ]
    },
    {
     "name": "stderr",
     "output_type": "stream",
     "text": [
      "┌ Warning: Time 6.20 [sec]: SAC computation took 0.101 [sec], which exceeds the maximum computation time allowed.\n",
      "└ @ Main.RiskSensitiveSAC /home/kh-ryu/DRC_Project/DRCC-MPC/src/rs_sac_controller.jl:733\n",
      "┌ Warning: Time 6.20 [sec]: This evaluation iteration took 0.102 [sec], which exceeds dtc.\n",
      "└ @ Main.RiskSensitiveSAC /home/kh-ryu/DRC_Project/DRCC-MPC/src/evaluation.jl:291\n"
     ]
    },
    {
     "name": "stderr",
     "output_type": "stream",
     "text": [
      "┌ Warning: Time 6.30 [sec]: SAC computation took 0.395 [sec], which exceeds the maximum computation time allowed.\n",
      "└ @ Main.RiskSensitiveSAC /home/kh-ryu/DRC_Project/DRCC-MPC/src/rs_sac_controller.jl:733\n",
      "┌ Warning: Time 6.30 [sec]: This evaluation iteration took 0.396 [sec], which exceeds dtc.\n",
      "└ @ Main.RiskSensitiveSAC /home/kh-ryu/DRC_Project/DRCC-MPC/src/evaluation.jl:291\n"
     ]
    },
    {
     "name": "stderr",
     "output_type": "stream",
     "text": [
      "┌ Warning: Time 6.40 [sec]: This evaluation iteration took 0.101 [sec], which exceeds dtc.\n",
      "└ @ Main.RiskSensitiveSAC /home/kh-ryu/DRC_Project/DRCC-MPC/src/evaluation.jl:291\n"
     ]
    },
    {
     "name": "stderr",
     "output_type": "stream",
     "text": [
      "┌ Warning: Time 6.80 [sec]: This evaluation iteration took 0.092 [sec], which exceeds dtc.\n",
      "└ @ Main.RiskSensitiveSAC /home/kh-ryu/DRC_Project/DRCC-MPC/src/evaluation.jl:291\n"
     ]
    },
    {
     "name": "stderr",
     "output_type": "stream",
     "text": [
      "┌ Warning: Time 7.20 [sec]: This evaluation iteration took 0.089 [sec], which exceeds dtc.\n",
      "└ @ Main.RiskSensitiveSAC /home/kh-ryu/DRC_Project/DRCC-MPC/src/evaluation.jl:291\n"
     ]
    },
    {
     "name": "stderr",
     "output_type": "stream",
     "text": [
      "┌ Warning: Time 7.60 [sec]: This evaluation iteration took 0.085 [sec], which exceeds dtc.\n",
      "└ @ Main.RiskSensitiveSAC /home/kh-ryu/DRC_Project/DRCC-MPC/src/evaluation.jl:291\n"
     ]
    },
    {
     "name": "stderr",
     "output_type": "stream",
     "text": [
      "┌ Warning: Time 8.00 [sec]: This evaluation iteration took 0.082 [sec], which exceeds dtc.\n",
      "└ @ Main.RiskSensitiveSAC /home/kh-ryu/DRC_Project/DRCC-MPC/src/evaluation.jl:291\n"
     ]
    },
    {
     "name": "stderr",
     "output_type": "stream",
     "text": [
      "┌ Warning: Time 8.40 [sec]: This evaluation iteration took 0.079 [sec], which exceeds dtc.\n",
      "└ @ Main.RiskSensitiveSAC /home/kh-ryu/DRC_Project/DRCC-MPC/src/evaluation.jl:291\n"
     ]
    },
    {
     "name": "stderr",
     "output_type": "stream",
     "text": [
      "┌ Warning: Time 8.80 [sec]: This evaluation iteration took 0.062 [sec], which exceeds dtc.\n",
      "└ @ Main.RiskSensitiveSAC /home/kh-ryu/DRC_Project/DRCC-MPC/src/evaluation.jl:291\n"
     ]
    },
    {
     "name": "stderr",
     "output_type": "stream",
     "text": [
      "┌ Warning: Time 9.20 [sec]: This evaluation iteration took 0.062 [sec], which exceeds dtc.\n",
      "└ @ Main.RiskSensitiveSAC /home/kh-ryu/DRC_Project/DRCC-MPC/src/evaluation.jl:291\n"
     ]
    },
    {
     "name": "stderr",
     "output_type": "stream",
     "text": [
      "┌ Warning: Time 9.60 [sec]: This evaluation iteration took 0.06 [sec], which exceeds dtc.\n",
      "└ @ Main.RiskSensitiveSAC /home/kh-ryu/DRC_Project/DRCC-MPC/src/evaluation.jl:291\n"
     ]
    },
    {
     "name": "stdout",
     "output_type": "stream",
     "text": [
      "Average computation time: 0.03576384168682677\n",
      "std of computation time: 0.049528247673661735\n"
     ]
    }
   ],
   "source": [
    "result, ~, ~ = evaluate(scene_loader, controller, w_init, ego_pos_goal_vec,\n",
    "                  target_speed, measurement_schedule, target_trajectory,\n",
    "                  pos_error_replan, nominal_control=false);"
   ]
  },
  {
   "cell_type": "code",
   "execution_count": null,
   "metadata": {},
   "outputs": [],
   "source": [
    "display_log(result.log)"
   ]
  },
  {
   "cell_type": "code",
   "execution_count": null,
   "metadata": {},
   "outputs": [],
   "source": [
    "result.total_cnt_cost"
   ]
  },
  {
   "cell_type": "code",
   "execution_count": null,
   "metadata": {},
   "outputs": [],
   "source": [
    "result.total_pos_cost"
   ]
  },
  {
   "cell_type": "code",
   "execution_count": null,
   "metadata": {},
   "outputs": [],
   "source": [
    "result.total_col_cost"
   ]
  },
  {
   "cell_type": "code",
   "execution_count": null,
   "metadata": {},
   "outputs": [],
   "source": [
    "result.total_cnt_cost + result.total_pos_cost + result.total_col_cost"
   ]
  },
  {
   "cell_type": "code",
   "execution_count": null,
   "metadata": {},
   "outputs": [],
   "source": [
    "minimum([minimum(vcat([norm(get_position(w.e_state) - ap) for ap in values(w.ap_dict)], Inf))\n",
    "                          for w in result.w_history])"
   ]
  },
  {
   "cell_type": "code",
   "execution_count": null,
   "metadata": {},
   "outputs": [],
   "source": [
    "make_gif(result, dtplot=0.1, fps=5,xlim=(-3. + -5.263534, 13. + -5.314636), \n",
    "         ylim=(0. + -5.263534, 10. + -2.314636), figsize=(600, 400), \n",
    "         legendfontsize=7, legend=:bottomright, markersize=5., filename=\"2_2_data_trajectron_risk_1.0.gif\")"
   ]
  },
  {
   "cell_type": "code",
   "execution_count": null,
   "metadata": {},
   "outputs": [],
   "source": [
    "# save(\"2_2_data_trajectron_risk_1.0.jld2\", \"result\", result)"
   ]
  },
  {
   "attachments": {},
   "cell_type": "markdown",
   "metadata": {},
   "source": [
    "# 3. Deterministic (mode-mode) Prediction"
   ]
  },
  {
   "cell_type": "code",
   "execution_count": null,
   "metadata": {},
   "outputs": [],
   "source": [
    "include(\"$(@__DIR__)/../scripts/default_params/params_data_trajectron.jl\");\n",
    "\n",
    "deterministic = true;\n",
    "num_samples = 1;\n",
    "\n",
    "include(\"$(@__DIR__)/../scripts/parameter_setup.jl\");"
   ]
  },
  {
   "cell_type": "code",
   "execution_count": null,
   "metadata": {},
   "outputs": [],
   "source": [
    "scene_loader, controller, w_init, measurement_schedule, target_trajectory, target_speed =\n",
    "controller_setup(scene_param,\n",
    "                 predictor_param,\n",
    "                 prediction_device=prediction_device,\n",
    "                 cost_param=cost_param,\n",
    "                 cnt_param=cnt_param,\n",
    "                 dtc=dtc,\n",
    "                 ego_pos_init_vec=ego_pos_init_vec,\n",
    "                 ego_pos_goal_vec=ego_pos_goal_vec,\n",
    "                 target_speed=target_speed,\n",
    "                 sim_horizon=sim_horizon,\n",
    "                 verbose=true);"
   ]
  },
  {
   "cell_type": "code",
   "execution_count": null,
   "metadata": {},
   "outputs": [],
   "source": [
    "result, ~, ~ = evaluate(scene_loader, controller, w_init, ego_pos_goal_vec,\n",
    "                  target_speed, measurement_schedule, target_trajectory,\n",
    "                  pos_error_replan, nominal_control=false);"
   ]
  },
  {
   "cell_type": "code",
   "execution_count": null,
   "metadata": {},
   "outputs": [],
   "source": [
    "display_log(result.log)"
   ]
  },
  {
   "cell_type": "code",
   "execution_count": null,
   "metadata": {},
   "outputs": [],
   "source": [
    "result.total_cnt_cost"
   ]
  },
  {
   "cell_type": "code",
   "execution_count": null,
   "metadata": {},
   "outputs": [],
   "source": [
    "result.total_pos_cost"
   ]
  },
  {
   "cell_type": "code",
   "execution_count": null,
   "metadata": {},
   "outputs": [],
   "source": [
    "result.total_col_cost"
   ]
  },
  {
   "cell_type": "code",
   "execution_count": null,
   "metadata": {},
   "outputs": [],
   "source": [
    "result.total_cnt_cost + result.total_pos_cost + result.total_col_cost"
   ]
  },
  {
   "cell_type": "code",
   "execution_count": null,
   "metadata": {},
   "outputs": [],
   "source": [
    "minimum([minimum(vcat([norm(get_position(w.e_state) - ap) for ap in values(w.ap_dict)], Inf))\n",
    "                          for w in result.w_history])"
   ]
  },
  {
   "cell_type": "code",
   "execution_count": null,
   "metadata": {},
   "outputs": [],
   "source": [
    "make_gif(result, dtplot=0.02, fps=50, xlim=(-3. + -5.263534, 13. + -5.314636), \n",
    "         ylim=(0. + -5.263534, 10. + -5.314636), figsize=(600, 400), \n",
    "         legendfontsize=7, legend=:bottomright, markersize=5., filename=\"2_3_data_trajectron_deterministic.gif\")"
   ]
  },
  {
   "cell_type": "code",
   "execution_count": null,
   "metadata": {},
   "outputs": [],
   "source": [
    "save(\"2_3_data_trajectron_deterministic.jld2\", \"result\", result)"
   ]
  },
  {
   "attachments": {},
   "cell_type": "markdown",
   "metadata": {},
   "source": [
    "# 4. Robot-Future-Conditional: PEDESTRIAN/236 Replaced with Ego"
   ]
  },
  {
   "cell_type": "code",
   "execution_count": null,
   "metadata": {},
   "outputs": [],
   "source": [
    "using LinearAlgebra\n",
    "\n",
    "include(\"$(@__DIR__)/../scripts/default_params/params_data_trajectron.jl\");\n",
    "\n",
    "incl_robot_node = true;\n",
    "use_robot_future = true;\n",
    "\n",
    "include(\"$(@__DIR__)/../scripts/parameter_setup.jl\");"
   ]
  },
  {
   "cell_type": "code",
   "execution_count": null,
   "metadata": {},
   "outputs": [],
   "source": [
    "scene_loader, controller, w_init, measurement_schedule, target_trajectory, target_speed =\n",
    "controller_setup(scene_param,\n",
    "                 predictor_param,\n",
    "                 prediction_device=prediction_device,\n",
    "                 cost_param=cost_param,\n",
    "                 cnt_param=cnt_param,\n",
    "                 dtc=dtc,\n",
    "                 sim_horizon=sim_horizon,\n",
    "                 ado_id_to_replace=\"PEDESTRIAN/236\",\n",
    "                 verbose=true);"
   ]
  },
  {
   "cell_type": "code",
   "execution_count": null,
   "metadata": {},
   "outputs": [],
   "source": [
    "result, ~, ~ = evaluate(scene_loader, controller, w_init, maximum(target_trajectory)[2],\n",
    "                  target_speed, measurement_schedule, target_trajectory,\n",
    "                  pos_error_replan, nominal_control=false,\n",
    "                  ado_id_removed=\"PEDESTRIAN/236\");"
   ]
  },
  {
   "cell_type": "code",
   "execution_count": null,
   "metadata": {},
   "outputs": [],
   "source": [
    "result.total_cnt_cost"
   ]
  },
  {
   "cell_type": "code",
   "execution_count": null,
   "metadata": {},
   "outputs": [],
   "source": [
    "result.total_pos_cost"
   ]
  },
  {
   "cell_type": "code",
   "execution_count": null,
   "metadata": {},
   "outputs": [],
   "source": [
    "result.total_col_cost"
   ]
  },
  {
   "cell_type": "code",
   "execution_count": null,
   "metadata": {},
   "outputs": [],
   "source": [
    "result.total_cnt_cost + result.total_pos_cost + result.total_col_cost"
   ]
  },
  {
   "cell_type": "code",
   "execution_count": null,
   "metadata": {},
   "outputs": [],
   "source": [
    "minimum([minimum(vcat([norm(get_position(w.e_state) - ap) for ap in values(w.ap_dict)], Inf))\n",
    "                          for w in result.w_history])"
   ]
  },
  {
   "cell_type": "code",
   "execution_count": null,
   "metadata": {},
   "outputs": [],
   "source": [
    "make_gif(result, dtplot=0.02, fps=50, xlim=(-3. + -5.263534, 13. + -5.314636), \n",
    "         ylim=(0. + -5.263534, 10. + -5.314636), figsize=(600, 400), \n",
    "         legendfontsize=7, legend=:bottomright, markersize=5., filename=\"2_4_data_trajectron_future_conditional.gif\",\n",
    "         show_nominal_trajectory=true)"
   ]
  },
  {
   "cell_type": "code",
   "execution_count": null,
   "metadata": {},
   "outputs": [],
   "source": [
    "save(\"2_4_data_trajectron_future_conditional.jld2\", \"result\", result)"
   ]
  },
  {
   "attachments": {},
   "cell_type": "markdown",
   "metadata": {},
   "source": [
    "# 5. No Robot-Future-Conditional: PEDESTRIAN/236 Replaced with Ego"
   ]
  },
  {
   "cell_type": "code",
   "execution_count": null,
   "metadata": {},
   "outputs": [],
   "source": [
    "include(\"$(@__DIR__)/../scripts/default_params/params_data_trajectron.jl\");\n",
    "\n",
    "\n",
    "include(\"$(@__DIR__)/../scripts/parameter_setup.jl\");"
   ]
  },
  {
   "cell_type": "code",
   "execution_count": null,
   "metadata": {},
   "outputs": [],
   "source": [
    "scene_loader, controller, w_init, measurement_schedule, target_trajectory, target_speed =\n",
    "controller_setup(scene_param,\n",
    "                 predictor_param,\n",
    "                 prediction_device=prediction_device,\n",
    "                 cost_param=cost_param,\n",
    "                 cnt_param=cnt_param,\n",
    "                 dtc=dtc,\n",
    "                 sim_horizon=sim_horizon,\n",
    "                 ado_id_to_replace=\"PEDESTRIAN/236\",\n",
    "                 verbose=true);"
   ]
  },
  {
   "cell_type": "code",
   "execution_count": null,
   "metadata": {},
   "outputs": [],
   "source": [
    "result, ~, ~ = evaluate(scene_loader, controller, w_init, maximum(target_trajectory)[2],\n",
    "                  target_speed, measurement_schedule, target_trajectory,\n",
    "                  pos_error_replan, nominal_control=false,\n",
    "                  ado_id_removed=\"PEDESTRIAN/236\");"
   ]
  },
  {
   "cell_type": "code",
   "execution_count": null,
   "metadata": {},
   "outputs": [],
   "source": [
    "display_log(result.log)"
   ]
  },
  {
   "cell_type": "code",
   "execution_count": null,
   "metadata": {},
   "outputs": [],
   "source": [
    "result.total_cnt_cost"
   ]
  },
  {
   "cell_type": "code",
   "execution_count": null,
   "metadata": {},
   "outputs": [],
   "source": [
    "result.total_pos_cost"
   ]
  },
  {
   "cell_type": "code",
   "execution_count": null,
   "metadata": {},
   "outputs": [],
   "source": [
    "result.total_col_cost"
   ]
  },
  {
   "cell_type": "code",
   "execution_count": null,
   "metadata": {},
   "outputs": [],
   "source": [
    "result.total_cnt_cost + result.total_pos_cost + result.total_col_cost"
   ]
  },
  {
   "cell_type": "code",
   "execution_count": null,
   "metadata": {},
   "outputs": [],
   "source": [
    "minimum([minimum(vcat([norm(get_position(w.e_state) - ap) for ap in values(w.ap_dict)], Inf))\n",
    "                          for w in result.w_history])"
   ]
  },
  {
   "cell_type": "code",
   "execution_count": null,
   "metadata": {},
   "outputs": [],
   "source": [
    "make_gif(result, dtplot=0.02, fps=50,  xlim=(-3. + -5.263534, 13. + -5.314636), \n",
    "         ylim=(0. + -5.263534, 10. + -5.314636), figsize=(600, 400), \n",
    "         legendfontsize=7, legend=:bottomright, markersize=5., filename=\"2_5_data_trajectron_no_future_conditional.gif\")"
   ]
  },
  {
   "cell_type": "code",
   "execution_count": null,
   "metadata": {},
   "outputs": [],
   "source": [
    "save(\"2_5_data_trajectron_future_conditional.jld2\", \"result\", result)"
   ]
  },
  {
   "cell_type": "code",
   "execution_count": null,
   "metadata": {},
   "outputs": [],
   "source": []
  }
 ],
 "metadata": {
  "@webio": {
   "lastCommId": null,
   "lastKernelId": null
  },
  "kernelspec": {
   "display_name": "Julia 1.8.5",
   "language": "julia",
   "name": "julia-1.8"
  },
  "language_info": {
   "file_extension": ".jl",
   "mimetype": "application/julia",
   "name": "julia",
   "version": "1.8.5"
  }
 },
 "nbformat": 4,
 "nbformat_minor": 4
}
