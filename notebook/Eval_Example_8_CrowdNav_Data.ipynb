{
 "cells": [
  {
   "cell_type": "code",
   "execution_count": null,
   "metadata": {},
   "outputs": [],
   "source": [
    "using Revise\n",
    "using Pkg\n",
    "\n",
    "ENV[\"PYTHON\"] = Sys.which(\"python\")\n",
    "ENV[\"PYCALL_JL_RUNTIME_PYTHON\"] = Sys.which(\"python\")\n",
    "Pkg.build(\"PyCall\")\n",
    "using FileIO\n",
    "using JLD2\n",
    "include(\"../src/RiskSensitiveSAC.jl\")\n",
    "using .RiskSensitiveSAC"
   ]
  },
  {
   "cell_type": "code",
   "execution_count": null,
   "metadata": {},
   "outputs": [],
   "source": [
    "include(\"$(@__DIR__)/../scripts/default_params/params_data_gaussian.jl\");\n",
    "\n",
    "dtr = 0.4;                                                                          # replanning time interval [s]\n",
    "# dtc = 0.4;\n",
    "tcalc = 0.2;                                                                        # pre-allocated control computation time [s] (< dtr)\n",
    "sim_horizon = 16.0;                                                                 # simulation horizon [s]\n",
    "\n",
    "# model_dir = normpath(joinpath(@__DIR__, \"../CrowdNav/crowd_nav/data/output_om_sarl_radius_0.4\")) # directory of the trained policy\n",
    "model_dir = normpath(joinpath(@__DIR__, \"../CrowdNav/crowd_nav/data/output\")) # directory of the trained policy\n",
    "env_config = \"env.config\"                                                           # environment config file name\n",
    "policy_config = \"policy.config\"                                                     # policy config file name\n",
    "policy_name = \"sarl\"                                                                # policy name\n",
    "\n",
    "include(\"$(@__DIR__)/../scripts/parameter_setup_crowd_nav.jl\");"
   ]
  },
  {
   "cell_type": "code",
   "execution_count": null,
   "metadata": {},
   "outputs": [],
   "source": [
    "scene_loader, controller, w_init, ado_inputs, measurement_schedule, target_trajectory, target_speed =\n",
    "controller_setup(scene_param, cnt_param,\n",
    "                 cost_param=cost_param,\n",
    "                 dtc=dtc,\n",
    "                 prediction_steps=prediction_steps,\n",
    "                 ego_pos_init_vec=ego_pos_init_vec,\n",
    "                 ego_pos_goal_vec=ego_pos_goal_vec,\n",
    "                 target_speed=target_speed,\n",
    "                 sim_horizon=sim_horizon,\n",
    "                 verbose=true);"
   ]
  },
  {
   "cell_type": "code",
   "execution_count": null,
   "metadata": {},
   "outputs": [],
   "source": [
    "result, ~, ~ = evaluate(scene_loader, controller, w_init, ego_pos_goal_vec, target_speed,\n",
    "                  measurement_schedule, target_trajectory, pos_error_replan, \n",
    "                  ado_inputs_init=ado_inputs);"
   ]
  },
  {
   "cell_type": "code",
   "execution_count": null,
   "metadata": {},
   "outputs": [],
   "source": [
    "display_log(result.log)"
   ]
  },
  {
   "cell_type": "code",
   "execution_count": null,
   "metadata": {},
   "outputs": [],
   "source": [
    "result.total_cnt_cost"
   ]
  },
  {
   "cell_type": "code",
   "execution_count": null,
   "metadata": {},
   "outputs": [],
   "source": [
    "result.total_pos_cost"
   ]
  },
  {
   "cell_type": "code",
   "execution_count": null,
   "metadata": {},
   "outputs": [],
   "source": [
    "result.total_col_cost"
   ]
  },
  {
   "cell_type": "code",
   "execution_count": null,
   "metadata": {},
   "outputs": [],
   "source": [
    "result.total_cnt_cost + result.total_pos_cost + result.total_col_cost"
   ]
  },
  {
   "cell_type": "code",
   "execution_count": null,
   "metadata": {},
   "outputs": [],
   "source": [
    "minimum([minimum(vcat([norm(get_position(w.e_state) - ap) for ap in values(w.ap_dict)], Inf))\n",
    "                          for w in result.w_history])"
   ]
  },
  {
   "cell_type": "code",
   "execution_count": null,
   "metadata": {},
   "outputs": [],
   "source": [
    "make_gif(result, dtplot=0.4, fps=2, xlim=(-3. + -5.263534, 13. + -5.314636), \n",
    "         ylim=(0. + -5.263534, 10. + -5.314636), figsize=(600, 400), \n",
    "         legendfontsize=7, legend=:bottomright, markersize=5., filename=\"8_crowd_nav_data.gif\")"
   ]
  },
  {
   "cell_type": "code",
   "execution_count": null,
   "metadata": {},
   "outputs": [],
   "source": [
    "save(\"8_crowd_nav_data.jld2\", \"result\", result)"
   ]
  },
  {
   "cell_type": "code",
   "execution_count": null,
   "metadata": {},
   "outputs": [],
   "source": []
  }
 ],
 "metadata": {
  "@webio": {
   "lastCommId": null,
   "lastKernelId": null
  },
  "kernelspec": {
   "display_name": "Julia 1.8.5",
   "language": "julia",
   "name": "julia-1.8"
  },
  "language_info": {
   "file_extension": ".jl",
   "mimetype": "application/julia",
   "name": "julia",
   "version": "1.8.5"
  }
 },
 "nbformat": 4,
 "nbformat_minor": 4
}
