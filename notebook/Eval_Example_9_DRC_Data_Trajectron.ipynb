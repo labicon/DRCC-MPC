{
 "cells": [
  {
   "cell_type": "code",
   "execution_count": 1,
   "metadata": {},
   "outputs": [
    {
     "name": "stderr",
     "output_type": "stream",
     "text": [
      "\u001b[32m\u001b[1m    Building\u001b[22m\u001b[39m Conda ─→ `~/.julia/scratchspaces/44cfe95a-1eb2-52ea-b672-e2afdf69b78f/51cab8e982c5b598eea9c8ceaced4b58d9dd37c9/build.log`\n"
     ]
    },
    {
     "name": "stderr",
     "output_type": "stream",
     "text": [
      "\u001b[32m\u001b[1m    Building\u001b[22m\u001b[39m PyCall → `~/.julia/scratchspaces/44cfe95a-1eb2-52ea-b672-e2afdf69b78f/9816a3826b0ebf49ab4926e2b18842ad8b5c8f04/build.log`\n"
     ]
    },
    {
     "name": "stderr",
     "output_type": "stream",
     "text": [
      "┌ Error: Unable to load the 'rospy' python package!\n",
      "│ Has an environment setup script been run?\n",
      "└ @ RobotOS /home/kh-ryu/.julia/packages/RobotOS/j0Tsl/src/RobotOS.jl:35\n"
     ]
    },
    {
     "name": "stderr",
     "output_type": "stream",
     "text": [
      "┌ Warning: You are using Matplotlib 3.3.4, which is no longer\n",
      "│ officially supported by the Plots community. To ensure smooth Plots.jl\n",
      "│ integration update your Matplotlib library to a version >= 3.4.0\n",
      "│ \n",
      "│ If you have used Conda.jl to install PyPlot (default installation),\n",
      "│ upgrade your matplotlib via Conda.jl and rebuild the PyPlot.\n",
      "│ \n",
      "│ If you are not sure, here are the default instructions:\n",
      "│ \n",
      "│ In Julia REPL:\n",
      "│ ```\n",
      "│ import Pkg;\n",
      "│ Pkg.add(\"Conda\")\n",
      "│ import Conda\n",
      "│ Conda.update()\n",
      "│ Pkg.build(\"PyPlot\")\n",
      "│ ```\n",
      "└ @ Plots /home/kh-ryu/.julia/packages/Plots/sxUvK/src/backends/deprecated/pyplot.jl:16\n"
     ]
    },
    {
     "name": "stderr",
     "output_type": "stream",
     "text": [
      "┌ Warning: You are using Matplotlib 3.3.4, which is no longer\n",
      "│ officially supported by the Plots community. To ensure smooth Plots.jl\n",
      "│ integration update your Matplotlib library to a version >= 3.4.0\n",
      "│ \n",
      "│ If you have used Conda.jl to install PyPlot (default installation),\n",
      "│ upgrade your matplotlib via Conda.jl and rebuild the PyPlot.\n",
      "│ \n",
      "│ If you are not sure, here are the default instructions:\n",
      "│ \n",
      "│ In Julia REPL:\n",
      "│ ```\n",
      "│ import Pkg;\n",
      "│ Pkg.add(\"Conda\")\n",
      "│ import Conda\n",
      "│ Conda.update()\n",
      "│ Pkg.build(\"PyPlot\")\n",
      "│ ```\n",
      "└ @ Plots /home/kh-ryu/.julia/packages/Plots/sxUvK/src/backends/deprecated/pyplot.jl:16\n"
     ]
    },
    {
     "name": "stderr",
     "output_type": "stream",
     "text": [
      "┌ Info: Number of Julia Thread(s): 1\n",
      "└ @ Main.DistributionallyRobust /home/kh-ryu/DRC_Project/DRCC-MPC/src/DistributionallyRobust.jl:39\n",
      "┌ Info: CUDA Device: NVIDIA GeForce RTX 3060\n",
      "└ @ Main.DistributionallyRobust /home/kh-ryu/DRC_Project/DRCC-MPC/src/DistributionallyRobust.jl:40\n",
      "┌ Info: Python executable used by PyCall: /home/kh-ryu/anaconda3/envs/temp_trajectron/bin/python\n",
      "└ @ Main.DistributionallyRobust /home/kh-ryu/DRC_Project/DRCC-MPC/src/DistributionallyRobust.jl:41\n"
     ]
    }
   ],
   "source": [
    "using Revise\n",
    "using Pkg\n",
    "\n",
    "ENV[\"PYTHON\"] = Sys.which(\"python\")\n",
    "ENV[\"PYCALL_JL_RUNTIME_PYTHON\"] = Sys.which(\"python\")\n",
    "Pkg.build(\"PyCall\")\n",
    "using FileIO\n",
    "using JLD2\n",
    "include(\"../src/DistributionallyRobust.jl\")\n",
    "using .DistributionallyRobust"
   ]
  },
  {
   "cell_type": "code",
   "execution_count": 2,
   "metadata": {},
   "outputs": [],
   "source": [
    "include(\"$(@__DIR__)/../scripts/default_params/params_drc_data_trajectron.jl\");\n",
    "\n",
    "epsilon = 0.15;\n",
    "\n",
    "# test_data_name = \"hotel_test.pkl\";                                                  # test data set name\n",
    "# test_scene_id = 0;                                                                  # test data id\n",
    "# start_time_idx = 401;                                                               # start time index in test data\n",
    "# ego_pos_init_vec = [-1.5, -8.5] .+ [-1.393743, 2.978962];                           # initial ego position [x, y] [m]\n",
    "# ego_pos_goal_vec = [3.5, 0.0]   .+ [-1.393743, 2.978962];                           # goal ego position [x, y] [m]\n",
    "# target_speed = 1.0;                                                                 # target speed [m/s]\n",
    "# sim_horizon = 10.0;       \n",
    "\n",
    "include(\"$(@__DIR__)/../scripts/parameter_setup_drc.jl\");"
   ]
  },
  {
   "cell_type": "code",
   "execution_count": 3,
   "metadata": {},
   "outputs": [
    {
     "name": "stdout",
     "output_type": "stream",
     "text": [
      "Scene Mode: data\n",
      "Prediction Mode: trajectron\n",
      "Deterministic Prediction: false\n",
      "Loaded evaluation data from /home/kh-ryu/DRC_Project/DRCC-MPC/Trajectron-plus-plus/experiments/processed/eth_test.pkl\n",
      "Looking at the eth_test.pkl sequence, data_id 0, start_idx 905\n"
     ]
    },
    {
     "name": "stdout",
     "output_type": "stream",
     "text": [
      "Loaded Trajectron model from /home/kh-ryu/DRC_Project/DRCC-MPC/Trajectron-plus-plus/experiments/pedestrians/models/eth_attention_radius_3/model_registrar-100.pt\n"
     ]
    }
   ],
   "source": [
    "scene_loader, controller, w_init, measurement_schedule, target_trajectory, target_speed =\n",
    "    controller_setup(scene_param,\n",
    "                    predictor_param,\n",
    "                    prediction_device=prediction_device,\n",
    "                    cost_param=cost_param,\n",
    "                    cnt_param=cnt_param,\n",
    "                    dtc=dtc,\n",
    "                    ego_pos_init_vec=ego_pos_init_vec,\n",
    "                    ego_pos_goal_vec=ego_pos_goal_vec,\n",
    "                    target_speed=target_speed,\n",
    "                    sim_horizon=sim_horizon,\n",
    "                    verbose=true);"
   ]
  },
  {
   "cell_type": "code",
   "execution_count": 4,
   "metadata": {},
   "outputs": [
    {
     "name": "stderr",
     "output_type": "stream",
     "text": [
      "┌ Warning: Time 0.00 [sec]: DRC computation took 15.574 [sec], which exceeds the maximum computation time allowed.\n",
      "└ @ Main.DistributionallyRobust /home/kh-ryu/DRC_Project/DRCC-MPC/src/distributionally_robust_controller.jl:254\n"
     ]
    },
    {
     "name": "stderr",
     "output_type": "stream",
     "text": [
      "┌ Warning: Time 0.10 [sec]: DRC computation took 0.13 [sec], which exceeds the maximum computation time allowed.\n",
      "└ @ Main.DistributionallyRobust /home/kh-ryu/DRC_Project/DRCC-MPC/src/distributionally_robust_controller.jl:254\n",
      "┌ Warning: Time 0.10 [sec]: This evaluation iteration took 0.13 [sec], which exceeds dtc.\n",
      "└ @ Main.DistributionallyRobust /home/kh-ryu/DRC_Project/DRCC-MPC/src/drc_evaluation.jl:204\n"
     ]
    },
    {
     "name": "stderr",
     "output_type": "stream",
     "text": [
      "┌ Warning: Time 0.40 [sec]: This evaluation iteration took 0.105 [sec], which exceeds dtc.\n",
      "└ @ Main.DistributionallyRobust /home/kh-ryu/DRC_Project/DRCC-MPC/src/drc_evaluation.jl:204\n"
     ]
    },
    {
     "name": "stderr",
     "output_type": "stream",
     "text": [
      "┌ Warning: Time 3.60 [sec]: All samples violate CVaR constraints.\n",
      "└ @ Main.DistributionallyRobust /home/kh-ryu/DRC_Project/DRCC-MPC/src/distributionally_robust_controller.jl:315\n",
      "┌ Warning: Time 3.60 [sec]: This evaluation iteration took 0.113 [sec], which exceeds dtc.\n",
      "└ @ Main.DistributionallyRobust /home/kh-ryu/DRC_Project/DRCC-MPC/src/drc_evaluation.jl:204\n",
      "┌ Warning: Time 3.70 [sec]: All samples violate CVaR constraints.\n",
      "└ @ Main.DistributionallyRobust /home/kh-ryu/DRC_Project/DRCC-MPC/src/distributionally_robust_controller.jl:315\n"
     ]
    },
    {
     "name": "stderr",
     "output_type": "stream",
     "text": [
      "┌ Warning: Time 3.80 [sec]: All samples violate CVaR constraints.\n",
      "└ @ Main.DistributionallyRobust /home/kh-ryu/DRC_Project/DRCC-MPC/src/distributionally_robust_controller.jl:315\n"
     ]
    },
    {
     "name": "stderr",
     "output_type": "stream",
     "text": [
      "┌ Warning: Time 3.90 [sec]: All samples violate CVaR constraints.\n",
      "└ @ Main.DistributionallyRobust /home/kh-ryu/DRC_Project/DRCC-MPC/src/distributionally_robust_controller.jl:315\n"
     ]
    },
    {
     "name": "stderr",
     "output_type": "stream",
     "text": [
      "┌ Warning: Time 4.00 [sec]: All samples violate CVaR constraints.\n",
      "└ @ Main.DistributionallyRobust /home/kh-ryu/DRC_Project/DRCC-MPC/src/distributionally_robust_controller.jl:315\n",
      "┌ Warning: Time 4.00 [sec]: This evaluation iteration took 0.121 [sec], which exceeds dtc.\n",
      "└ @ Main.DistributionallyRobust /home/kh-ryu/DRC_Project/DRCC-MPC/src/drc_evaluation.jl:204\n",
      "┌ Warning: Time 4.10 [sec]: All samples violate CVaR constraints.\n",
      "└ @ Main.DistributionallyRobust /home/kh-ryu/DRC_Project/DRCC-MPC/src/distributionally_robust_controller.jl:315\n"
     ]
    },
    {
     "name": "stderr",
     "output_type": "stream",
     "text": [
      "┌ Warning: Time 4.20 [sec]: All samples violate CVaR constraints.\n",
      "└ @ Main.DistributionallyRobust /home/kh-ryu/DRC_Project/DRCC-MPC/src/distributionally_robust_controller.jl:315\n"
     ]
    },
    {
     "name": "stderr",
     "output_type": "stream",
     "text": [
      "┌ Warning: Time 4.30 [sec]: All samples violate CVaR constraints.\n",
      "└ @ Main.DistributionallyRobust /home/kh-ryu/DRC_Project/DRCC-MPC/src/distributionally_robust_controller.jl:315\n"
     ]
    },
    {
     "name": "stderr",
     "output_type": "stream",
     "text": [
      "┌ Warning: Time 4.40 [sec]: All samples violate CVaR constraints.\n",
      "└ @ Main.DistributionallyRobust /home/kh-ryu/DRC_Project/DRCC-MPC/src/distributionally_robust_controller.jl:315\n",
      "┌ Warning: Time 4.40 [sec]: This evaluation iteration took 0.114 [sec], which exceeds dtc.\n",
      "└ @ Main.DistributionallyRobust /home/kh-ryu/DRC_Project/DRCC-MPC/src/drc_evaluation.jl:204\n"
     ]
    },
    {
     "name": "stderr",
     "output_type": "stream",
     "text": [
      "┌ Warning: Time 4.80 [sec]: This evaluation iteration took 0.122 [sec], which exceeds dtc.\n",
      "└ @ Main.DistributionallyRobust /home/kh-ryu/DRC_Project/DRCC-MPC/src/drc_evaluation.jl:204\n"
     ]
    },
    {
     "name": "stderr",
     "output_type": "stream",
     "text": [
      "┌ Warning: Time 5.20 [sec]: This evaluation iteration took 0.119 [sec], which exceeds dtc.\n",
      "└ @ Main.DistributionallyRobust /home/kh-ryu/DRC_Project/DRCC-MPC/src/drc_evaluation.jl:204\n"
     ]
    },
    {
     "name": "stderr",
     "output_type": "stream",
     "text": [
      "┌ Warning: Time 5.60 [sec]: This evaluation iteration took 0.138 [sec], which exceeds dtc.\n",
      "└ @ Main.DistributionallyRobust /home/kh-ryu/DRC_Project/DRCC-MPC/src/drc_evaluation.jl:204\n"
     ]
    },
    {
     "name": "stderr",
     "output_type": "stream",
     "text": [
      "┌ Warning: Time 6.00 [sec]: This evaluation iteration took 0.133 [sec], which exceeds dtc.\n",
      "└ @ Main.DistributionallyRobust /home/kh-ryu/DRC_Project/DRCC-MPC/src/drc_evaluation.jl:204\n"
     ]
    },
    {
     "name": "stderr",
     "output_type": "stream",
     "text": [
      "┌ Warning: Time 6.40 [sec]: This evaluation iteration took 0.113 [sec], which exceeds dtc.\n",
      "└ @ Main.DistributionallyRobust /home/kh-ryu/DRC_Project/DRCC-MPC/src/drc_evaluation.jl:204\n"
     ]
    },
    {
     "name": "stderr",
     "output_type": "stream",
     "text": [
      "┌ Warning: Time 6.80 [sec]: This evaluation iteration took 0.109 [sec], which exceeds dtc.\n",
      "└ @ Main.DistributionallyRobust /home/kh-ryu/DRC_Project/DRCC-MPC/src/drc_evaluation.jl:204\n"
     ]
    },
    {
     "name": "stderr",
     "output_type": "stream",
     "text": [
      "┌ Warning: Time 7.20 [sec]: This evaluation iteration took 0.116 [sec], which exceeds dtc.\n",
      "└ @ Main.DistributionallyRobust /home/kh-ryu/DRC_Project/DRCC-MPC/src/drc_evaluation.jl:204\n"
     ]
    },
    {
     "name": "stderr",
     "output_type": "stream",
     "text": [
      "┌ Warning: Time 7.60 [sec]: This evaluation iteration took 0.102 [sec], which exceeds dtc.\n",
      "└ @ Main.DistributionallyRobust /home/kh-ryu/DRC_Project/DRCC-MPC/src/drc_evaluation.jl:204\n"
     ]
    },
    {
     "name": "stderr",
     "output_type": "stream",
     "text": [
      "┌ Warning: Time 8.00 [sec]: This evaluation iteration took 0.102 [sec], which exceeds dtc.\n",
      "└ @ Main.DistributionallyRobust /home/kh-ryu/DRC_Project/DRCC-MPC/src/drc_evaluation.jl:204\n"
     ]
    },
    {
     "name": "stderr",
     "output_type": "stream",
     "text": [
      "┌ Warning: Time 8.40 [sec]: This evaluation iteration took 0.102 [sec], which exceeds dtc.\n",
      "└ @ Main.DistributionallyRobust /home/kh-ryu/DRC_Project/DRCC-MPC/src/drc_evaluation.jl:204\n"
     ]
    },
    {
     "name": "stderr",
     "output_type": "stream",
     "text": [
      "/home/kh-ryu/anaconda3/envs/temp_trajectron/lib/python3.6/site-packages/torch/distributions/distribution.py:46: UserWarning: <class 'model.components.gmm2d.GMM2D'> does not define `arg_constraints`. Please set `arg_constraints = {}` or initialize the distribution with `validate_args=False` to turn off validation.\n",
      "  'with `validate_args=False` to turn off validation.')\n",
      "/home/kh-ryu/anaconda3/envs/temp_trajectron/lib/python3.6/site-packages/torch/distributions/distribution.py:46: UserWarning: <class 'model.components.gmm2d.GMM2D'> does not define `arg_constraints`. Please set `arg_constraints = {}` or initialize the distribution with `validate_args=False` to turn off validation.\n",
      "  'with `validate_args=False` to turn off validation.')\n",
      "/home/kh-ryu/anaconda3/envs/temp_trajectron/lib/python3.6/site-packages/torch/distributions/distribution.py:46: UserWarning: <class 'model.components.gmm2d.GMM2D'> does not define `arg_constraints`. Please set `arg_constraints = {}` or initialize the distribution with `validate_args=False` to turn off validation.\n",
      "  'with `validate_args=False` to turn off validation.')\n",
      "/home/kh-ryu/anaconda3/envs/temp_trajectron/lib/python3.6/site-packages/torch/distributions/distribution.py:46: UserWarning: <class 'model.components.gmm2d.GMM2D'> does not define `arg_constraints`. Please set `arg_constraints = {}` or initialize the distribution with `validate_args=False` to turn off validation.\n",
      "  'with `validate_args=False` to turn off validation.')\n",
      "/home/kh-ryu/anaconda3/envs/temp_trajectron/lib/python3.6/site-packages/torch/distributions/distribution.py:46: UserWarning: <class 'model.components.gmm2d.GMM2D'> does not define `arg_constraints`. Please set `arg_constraints = {}` or initialize the distribution with `validate_args=False` to turn off validation.\n",
      "  'with `validate_args=False` to turn off validation.')\n",
      "/home/kh-ryu/anaconda3/envs/temp_trajectron/lib/python3.6/site-packages/torch/distributions/distribution.py:46: UserWarning: <class 'model.components.gmm2d.GMM2D'> does not define `arg_constraints`. Please set `arg_constraints = {}` or initialize the distribution with `validate_args=False` to turn off validation.\n",
      "  'with `validate_args=False` to turn off validation.')\n",
      "/home/kh-ryu/anaconda3/envs/temp_trajectron/lib/python3.6/site-packages/torch/distributions/distribution.py:46: UserWarning: <class 'model.components.gmm2d.GMM2D'> does not define `arg_constraints`. Please set `arg_constraints = {}` or initialize the distribution with `validate_args=False` to turn off validation.\n",
      "  'with `validate_args=False` to turn off validation.')\n",
      "/home/kh-ryu/anaconda3/envs/temp_trajectron/lib/python3.6/site-packages/torch/distributions/distribution.py:46: UserWarning: <class 'model.components.gmm2d.GMM2D'> does not define `arg_constraints`. Please set `arg_constraints = {}` or initialize the distribution with `validate_args=False` to turn off validation.\n",
      "  'with `validate_args=False` to turn off validation.')\n",
      "/home/kh-ryu/anaconda3/envs/temp_trajectron/lib/python3.6/site-packages/torch/distributions/distribution.py:46: UserWarning: <class 'model.components.gmm2d.GMM2D'> does not define `arg_constraints`. Please set `arg_constraints = {}` or initialize the distribution with `validate_args=False` to turn off validation.\n",
      "  'with `validate_args=False` to turn off validation.')\n",
      "/home/kh-ryu/anaconda3/envs/temp_trajectron/lib/python3.6/site-packages/torch/distributions/distribution.py:46: UserWarning: <class 'model.components.gmm2d.GMM2D'> does not define `arg_constraints`. Please set `arg_constraints = {}` or initialize the distribution with `validate_args=False` to turn off validation.\n",
      "  'with `validate_args=False` to turn off validation.')\n",
      "/home/kh-ryu/anaconda3/envs/temp_trajectron/lib/python3.6/site-packages/torch/distributions/distribution.py:46: UserWarning: <class 'model.components.gmm2d.GMM2D'> does not define `arg_constraints`. Please set `arg_constraints = {}` or initialize the distribution with `validate_args=False` to turn off validation.\n",
      "  'with `validate_args=False` to turn off validation.')\n",
      "/home/kh-ryu/anaconda3/envs/temp_trajectron/lib/python3.6/site-packages/torch/distributions/distribution.py:46: UserWarning: <class 'model.components.gmm2d.GMM2D'> does not define `arg_constraints`. Please set `arg_constraints = {}` or initialize the distribution with `validate_args=False` to turn off validation.\n",
      "  'with `validate_args=False` to turn off validation.')\n",
      "/home/kh-ryu/anaconda3/envs/temp_trajectron/lib/python3.6/site-packages/torch/distributions/distribution.py:46: UserWarning: <class 'model.components.gmm2d.GMM2D'> does not define `arg_constraints`. Please set `arg_constraints = {}` or initialize the distribution with `validate_args=False` to turn off validation.\n",
      "  'with `validate_args=False` to turn off validation.')\n",
      "/home/kh-ryu/anaconda3/envs/temp_trajectron/lib/python3.6/site-packages/torch/distributions/distribution.py:46: UserWarning: <class 'model.components.gmm2d.GMM2D'> does not define `arg_constraints`. Please set `arg_constraints = {}` or initialize the distribution with `validate_args=False` to turn off validation.\n",
      "  'with `validate_args=False` to turn off validation.')\n",
      "/home/kh-ryu/anaconda3/envs/temp_trajectron/lib/python3.6/site-packages/torch/distributions/distribution.py:46: UserWarning: <class 'model.components.gmm2d.GMM2D'> does not define `arg_constraints`. Please set `arg_constraints = {}` or initialize the distribution with `validate_args=False` to turn off validation.\n",
      "  'with `validate_args=False` to turn off validation.')\n",
      "/home/kh-ryu/anaconda3/envs/temp_trajectron/lib/python3.6/site-packages/torch/distributions/distribution.py:46: UserWarning: <class 'model.components.gmm2d.GMM2D'> does not define `arg_constraints`. Please set `arg_constraints = {}` or initialize the distribution with `validate_args=False` to turn off validation.\n",
      "  'with `validate_args=False` to turn off validation.')\n",
      "/home/kh-ryu/anaconda3/envs/temp_trajectron/lib/python3.6/site-packages/torch/distributions/distribution.py:46: UserWarning: <class 'model.components.gmm2d.GMM2D'> does not define `arg_constraints`. Please set `arg_constraints = {}` or initialize the distribution with `validate_args=False` to turn off validation.\n",
      "  'with `validate_args=False` to turn off validation.')\n",
      "/home/kh-ryu/anaconda3/envs/temp_trajectron/lib/python3.6/site-packages/torch/distributions/distribution.py:46: UserWarning: <class 'model.components.gmm2d.GMM2D'> does not define `arg_constraints`. Please set `arg_constraints = {}` or initialize the distribution with `validate_args=False` to turn off validation.\n",
      "  'with `validate_args=False` to turn off validation.')\n",
      "/home/kh-ryu/anaconda3/envs/temp_trajectron/lib/python3.6/site-packages/torch/distributions/distribution.py:46: UserWarning: <class 'model.components.gmm2d.GMM2D'> does not define `arg_constraints`. Please set `arg_constraints = {}` or initialize the distribution with `validate_args=False` to turn off validation.\n",
      "  'with `validate_args=False` to turn off validation.')\n",
      "/home/kh-ryu/anaconda3/envs/temp_trajectron/lib/python3.6/site-packages/torch/distributions/distribution.py:46: UserWarning: <class 'model.components.gmm2d.GMM2D'> does not define `arg_constraints`. Please set `arg_constraints = {}` or initialize the distribution with `validate_args=False` to turn off validation.\n",
      "  'with `validate_args=False` to turn off validation.')\n",
      "/home/kh-ryu/anaconda3/envs/temp_trajectron/lib/python3.6/site-packages/torch/distributions/distribution.py:46: UserWarning: <class 'model.components.gmm2d.GMM2D'> does not define `arg_constraints`. Please set `arg_constraints = {}` or initialize the distribution with `validate_args=False` to turn off validation.\n",
      "  'with `validate_args=False` to turn off validation.')\n",
      "/home/kh-ryu/anaconda3/envs/temp_trajectron/lib/python3.6/site-packages/torch/distributions/distribution.py:46: UserWarning: <class 'model.components.gmm2d.GMM2D'> does not define `arg_constraints`. Please set `arg_constraints = {}` or initialize the distribution with `validate_args=False` to turn off validation.\n",
      "  'with `validate_args=False` to turn off validation.')\n",
      "/home/kh-ryu/anaconda3/envs/temp_trajectron/lib/python3.6/site-packages/torch/distributions/distribution.py:46: UserWarning: <class 'model.components.gmm2d.GMM2D'> does not define `arg_constraints`. Please set `arg_constraints = {}` or initialize the distribution with `validate_args=False` to turn off validation.\n",
      "  'with `validate_args=False` to turn off validation.')\n"
     ]
    },
    {
     "name": "stdout",
     "output_type": "stream",
     "text": [
      "Average computation time: 0.0521284008026123\n",
      "std of computation time: 0.03150739558147522\n",
      "List of computation time: Any"
     ]
    },
    {
     "name": "stdout",
     "output_type": "stream",
     "text": [
      "[0.054913997650146484, 0.12982702255249023, 0.050015926361083984, 0.07581210136413574, 0.10468697547912598, 0.05466794967651367, 0.027200937271118164, 0.03525710105895996, 0.07886219024658203, 0.03617405891418457, 0.030245065689086914, 0.035848140716552734, 0.08164215087890625, 0.030414104461669922, 0.027589082717895508, 0.030488967895507812, 0.09415698051452637, 0.03541994094848633, 0.033477067947387695, 0.03320884704589844, 0.09758496284484863, 0.036199092864990234, 0.03463387489318848, 0.04599404335021973, 0.08854293823242188, 0.03351593017578125, 0.03447604179382324, 0.03951597213745117, 0.08027911186218262, 0.030380964279174805, 0.02679610252380371, 0.030750036239624023, 0.051614999771118164, 0.018130064010620117, 0.017763137817382812, 0.029371976852416992, 0.11337709426879883, 0.037548065185546875, 0.03803300857543945, 0.03084707260131836, 0.12134504318237305, 0.03375697135925293, 0.038789987564086914, 0.043663978576660156, 0.11421823501586914, 0.038559913635253906, 0.042289018630981445, 0.040696144104003906, 0.12173295021057129, 0.036682844161987305, 0.03895306587219238, 0.041124820709228516, 0.11905694007873535, 0.04010200500488281, 0.043334007263183594, 0.03420209884643555, 0.1376650333404541, 0.04672098159790039, 0.03729987144470215, 0.04205799102783203, 0.1334531307220459, 0.036824941635131836, 0.04523181915283203, 0.04715418815612793, 0.11280608177185059, 0.04044508934020996, 0.035298824310302734, 0.04072904586791992, 0.10906314849853516, 0.030148983001708984, 0.03805279731750488, 0.03779006004333496, 0.1161959171295166, 0.03675103187561035, 0.03549909591674805, 0.03967404365539551, 0.10202693939208984, 0.033965110778808594, 0.03397798538208008, 0.03924107551574707, 0.10180020332336426, 0.02920389175415039, 0.032518863677978516, 0.03344011306762695, 0.10203313827514648, 0.02741098403930664, 0.03148913383483887, 0.028489112854003906, 0.07700705528259277, 0.023190975189208984, 0.028604984283447266, 0.033709049224853516, 0.07239794731140137, 0.03142118453979492, 0.02453303337097168, 0.024240970611572266, 0.08078312873840332, 0.024539947509765625, 0.03003692626953125, 0.024145126342773438]\n"
     ]
    }
   ],
   "source": [
    "result, ~, ~ = evaluate(scene_loader, controller, w_init, ego_pos_goal_vec,\n",
    "                  target_speed, measurement_schedule, target_trajectory,\n",
    "                  pos_error_replan);"
   ]
  },
  {
   "cell_type": "code",
   "execution_count": 5,
   "metadata": {},
   "outputs": [],
   "source": [
    "# display_log(result.log)"
   ]
  },
  {
   "cell_type": "code",
   "execution_count": 6,
   "metadata": {},
   "outputs": [
    {
     "data": {
      "text/plain": [
       "1.2616577489286056"
      ]
     },
     "metadata": {},
     "output_type": "display_data"
    }
   ],
   "source": [
    "result.total_cnt_cost"
   ]
  },
  {
   "cell_type": "code",
   "execution_count": 7,
   "metadata": {},
   "outputs": [
    {
     "data": {
      "text/plain": [
       "125.15151123760054"
      ]
     },
     "metadata": {},
     "output_type": "display_data"
    }
   ],
   "source": [
    "result.total_pos_cost"
   ]
  },
  {
   "cell_type": "code",
   "execution_count": 8,
   "metadata": {},
   "outputs": [
    {
     "data": {
      "text/plain": [
       "14.32878045200265"
      ]
     },
     "metadata": {},
     "output_type": "display_data"
    }
   ],
   "source": [
    "result.total_col_cost"
   ]
  },
  {
   "cell_type": "code",
   "execution_count": 9,
   "metadata": {},
   "outputs": [
    {
     "data": {
      "text/plain": [
       "0"
      ]
     },
     "metadata": {},
     "output_type": "display_data"
    }
   ],
   "source": [
    "result.total_col"
   ]
  },
  {
   "cell_type": "code",
   "execution_count": 10,
   "metadata": {},
   "outputs": [
    {
     "data": {
      "text/plain": [
       "140.7419494385318"
      ]
     },
     "metadata": {},
     "output_type": "display_data"
    }
   ],
   "source": [
    "result.total_cnt_cost + result.total_pos_cost + result.total_col_cost"
   ]
  },
  {
   "cell_type": "code",
   "execution_count": 11,
   "metadata": {},
   "outputs": [
    {
     "data": {
      "text/plain": [
       "0.8505075239880383"
      ]
     },
     "metadata": {},
     "output_type": "display_data"
    }
   ],
   "source": [
    "minimum([minimum(vcat([norm(get_position(w.e_state) - ap) for ap in values(w.ap_dict)], Inf))\n",
    "                          for w in result.w_history])"
   ]
  },
  {
   "cell_type": "code",
   "execution_count": 12,
   "metadata": {},
   "outputs": [],
   "source": [
    "save(\"9_data_trajectron.jld2\", \"result\", result)"
   ]
  }
 ],
 "metadata": {
  "kernelspec": {
   "display_name": "Julia 1.8.5",
   "language": "julia",
   "name": "julia-1.8"
  },
  "language_info": {
   "file_extension": ".jl",
   "mimetype": "application/julia",
   "name": "julia",
   "version": "1.8.5"
  },
  "orig_nbformat": 4
 },
 "nbformat": 4,
 "nbformat_minor": 2
}
